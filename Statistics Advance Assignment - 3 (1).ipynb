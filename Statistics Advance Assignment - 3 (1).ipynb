{
 "cells": [
  {
   "cell_type": "markdown",
   "id": "f82f263a-da02-49e0-b714-415c95a77dfa",
   "metadata": {},
   "source": [
    "Q1. What is Estimation Statistics? Explain point estimate and interval estimate"
   ]
  },
  {
   "cell_type": "markdown",
   "id": "7f3a1247-515b-4ae1-a4fc-fe1f8aed2ed2",
   "metadata": {},
   "source": [
    "It is a specified observed numerical value used to estimate unknown population parameter.\n",
    "\n",
    "**Types of Estimate :**\n",
    "\n",
    "1. Point Estimate : Single numerical value used to estimate an unknown population parameter. \n",
    "\n",
    "E.g.:- Sample mean is a point estimate of a population mean. \n",
    "\n",
    "1. Interval Estimate : - Range of values used to estimate the unknown population parameter. \n",
    "\n",
    "Eg:-  we have a point and range to estimate"
   ]
  },
  {
   "cell_type": "markdown",
   "id": "29cf5615-d536-4797-96c7-217999a499d3",
   "metadata": {},
   "source": [
    "Q2. Write a Python function to estimate the population mean using a sample mean and standard \n",
    "deviation"
   ]
  },
  {
   "cell_type": "code",
   "execution_count": null,
   "id": "add63c7e-ddbc-4f1b-a301-65532efbe9da",
   "metadata": {},
   "outputs": [],
   "source": [
    "def population_mean(sample_mean , standard_deviation, sample_size):\n",
    "    x = ( sampbe_mean ) / sample_size"
   ]
  },
  {
   "cell_type": "markdown",
   "id": "1cb2857d-5e32-42d7-bc95-d07ccefc24a1",
   "metadata": {},
   "source": [
    "Q3: What is Hypothesis testing? Why is it used? State the importance of Hypothesis testing"
   ]
  },
  {
   "cell_type": "markdown",
   "id": "22142756-7f88-4ab7-9cf2-f95dcbeb8a99",
   "metadata": {},
   "source": [
    "To come up with conclusion we need to perform hypothesis testing. \n",
    "\n",
    "Hypothesis testing Mechanism : person - Crime -Court.\n",
    "\n",
    "1. Null Hypothesis (H0) - Person is not guilty until proved.\n",
    "\n",
    "The assumption you are beginning with\n",
    "\n",
    "1. Alternate Hypothesis (H1) - The person is guilty \n",
    "\n",
    "Reverse of null hypothesis  \n",
    "\n",
    "1. Experiments - We collect proofs \n",
    "\n",
    "Statistical Analysis \n",
    "\n",
    "1. Accept the null hypothesis or reject the null hypothesis."
   ]
  },
  {
   "cell_type": "markdown",
   "id": "12a466e3-116c-40dc-ad61-350c4b97edf6",
   "metadata": {},
   "source": [
    "Q4.What is a null and alternative hypothesis? Give some examples"
   ]
  },
  {
   "cell_type": "markdown",
   "id": "e7ffc18b-f1c1-427c-a569-f7d34abd74da",
   "metadata": {},
   "source": [
    "Null Hypothesis - A statement suggesting no significant difference, effect, or relationship in a population based on sample data.\n",
    "Alternate Hypothesis - Reverse of Null hypothesis. \n",
    "Eg - Testing a Mean, testing a correlation."
   ]
  },
  {
   "cell_type": "markdown",
   "id": "44bd6353-32c2-41ed-9168-f56df018407f",
   "metadata": {},
   "source": [
    "Q5. Create a hypothesis that states whether the average weight of male college students is greater than the average weight of female college students"
   ]
  },
  {
   "cell_type": "markdown",
   "id": "0896c32e-add2-45c8-99e7-bf418f7d073a",
   "metadata": {},
   "source": [
    "Null hypothesis = Mean of weight of male college students < mean of weight of female college students.\n",
    "Alternate hypothesis = Mean of weight of male college students > mean of weight of female college students.\n"
   ]
  },
  {
   "cell_type": "markdown",
   "id": "ed377d6b-7f84-4638-9aa4-34da713439e6",
   "metadata": {},
   "source": [
    "Q6. Write down the steps involved in hypothesis testing.\n",
    "\n",
    "Ans . Hypothesis testing Mechanism : person - Crime -Court.\n",
    "\n",
    "1. Null Hypothesis (H0) - Person is not guilty until proved.\n",
    "\n",
    "The assumption you are beginning with\n",
    "\n",
    "2. Alternate Hypothesis (H1) - The person is guilty \n",
    "\n",
    "Reverse of null hypothesis  \n",
    "\n",
    "3. Experiments - We collect proofs \n",
    "\n",
    "Statistical Analysis \n",
    "\n",
    "4. Accept the null hypothesis or reject the null hypothesis."
   ]
  },
  {
   "cell_type": "markdown",
   "id": "022a8588-1602-43cf-8b91-9903bd5220d6",
   "metadata": {},
   "source": [
    "Q7. Define p-value and explain its significance in hypothesis testing."
   ]
  },
  {
   "cell_type": "markdown",
   "id": "7ee265a7-b85d-49d7-9c7b-4adc7923ca8a",
   "metadata": {},
   "source": [
    "The p value is a number , calculated from a statistical test, that describes how likely you are to have found a particular set of observaions if the null hypothesis were true. P values are used in hypothesis testing to help decide whether to rejct the null hypothesis."
   ]
  },
  {
   "cell_type": "markdown",
   "id": "7e88b844-d721-4f20-bd94-5cba64cfe70a",
   "metadata": {},
   "source": [
    "Q8. What is Student’s t distribution? When to use the t-Distribution ?"
   ]
  },
  {
   "cell_type": "markdown",
   "id": "2ad66448-8ea4-4344-9624-e5ed3ec24f9d",
   "metadata": {},
   "source": [
    "Ans . If we don’t have population standard deviation then we use T- test, and if the sample size is less than 30."
   ]
  },
  {
   "cell_type": "markdown",
   "id": "a675914c-dfad-4732-9de0-d22540d971b9",
   "metadata": {},
   "source": [
    "Q9. A coffee shop owner wants to estimate the average daily revenue for their shop. They take a random \n",
    "sample of 50 days and find the sample mean revenue to be $500 with a standard deviation of $50. \n",
    "Estimate the population mean revenue with a 95% confidence interval"
   ]
  },
  {
   "cell_type": "markdown",
   "id": "a1cff9c9-99bf-4723-816e-6e1fee21ca1a",
   "metadata": {},
   "source": [
    "Ans. Got the result as $486.140 to $513.859."
   ]
  },
  {
   "cell_type": "markdown",
   "id": "725f326d-cbb0-4c76-96b0-c37f9a294b57",
   "metadata": {},
   "source": [
    "Q10 A marketing company wants to estimate the average number of ads watched by viewers during a TV \n",
    "program. They take a random sample of 50 viewers and find that the sample mean is 4 with a standard \n",
    "deviation of 1.5. Estimate the population mean with a 99% confidence interval."
   ]
  },
  {
   "cell_type": "markdown",
   "id": "45cee317-e827-4944-bf52-80dab27831c6",
   "metadata": {},
   "source": [
    "Ans. population mean is 3.453823 4.546177."
   ]
  },
  {
   "cell_type": "markdown",
   "id": "62db5d54-dd8b-4303-83e5-725fbefe8f3a",
   "metadata": {},
   "source": [
    "Q11. A researcher hypothesizes that a new drug will decrease blood pressure by 10 mmHg. They conduct a \n",
    "clinical trial with 100 patients and find that the sample mean decrease in blood pressure is 8 mmHg with a \n",
    "standard deviation of 3 mmHg. Test the hypothesis with a significance level of 0.05."
   ]
  },
  {
   "cell_type": "markdown",
   "id": "8f3a1164-1748-4f7c-86d4-e49264c9361f",
   "metadata": {},
   "source": [
    "Ans. Since ∣−6.67∣>1.984, you would reject the null hypothesis. This suggests that there is enough evidence to conclude that the new drug has a statistically significant effect on decreasing blood pressure, and the mean decrease is significantly different from 10 mmHg."
   ]
  },
  {
   "cell_type": "code",
   "execution_count": null,
   "id": "200d781b-989f-4611-9694-88b1058846b8",
   "metadata": {},
   "outputs": [],
   "source": []
  }
 ],
 "metadata": {
  "kernelspec": {
   "display_name": "Python 3 (ipykernel)",
   "language": "python",
   "name": "python3"
  },
  "language_info": {
   "codemirror_mode": {
    "name": "ipython",
    "version": 3
   },
   "file_extension": ".py",
   "mimetype": "text/x-python",
   "name": "python",
   "nbconvert_exporter": "python",
   "pygments_lexer": "ipython3",
   "version": "3.10.8"
  }
 },
 "nbformat": 4,
 "nbformat_minor": 5
}
